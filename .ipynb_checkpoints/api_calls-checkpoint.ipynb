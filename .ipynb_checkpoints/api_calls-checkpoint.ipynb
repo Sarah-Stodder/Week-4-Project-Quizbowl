{
 "cells": [
  {
   "cell_type": "code",
   "execution_count": 1,
   "id": "2e087095",
   "metadata": {},
   "outputs": [],
   "source": [
    "import requests\n",
    "\n",
    "url = 'https://cae-bootstore.herokuapp.com'\n",
    "\n",
    "endpoint_login = \"/login\"\n",
    "endpoint_user = \"/user\"\n",
    "endpoint_book = \"/book\""
   ]
  },
  {
   "cell_type": "code",
   "execution_count": 2,
   "id": "c69600af",
   "metadata": {},
   "outputs": [
    {
     "data": {
      "text/plain": [
       "'success'"
      ]
     },
     "execution_count": 2,
     "metadata": {},
     "output_type": "execute_result"
    }
   ],
   "source": [
    "import json\n",
    "\n",
    "def register_user(payload):\n",
    "    payload_json_string = json.dumps(payload)\n",
    "    headers = {\n",
    "        'Content-Type':'application/json'\n",
    "    }\n",
    "    response = requests.post(\n",
    "        url + endpoint_user,\n",
    "        data = payload_json_string,\n",
    "        headers = headers\n",
    "    )\n",
    "    return response.text\n",
    "    \n",
    "    \n",
    "    \n",
    "    \n",
    "jims_payload={\n",
    "    \"email\":\"jimb@eam.com\",\n",
    "    \"first_name\":\"William\",\n",
    "    \"last_name\":\"Beam\",\n",
    "    \"password\":\"123\"\n",
    "}\n",
    "\n",
    "register_user(jims_payload)    "
   ]
  },
  {
   "cell_type": "code",
   "execution_count": 9,
   "id": "39ee7838",
   "metadata": {},
   "outputs": [
    {
     "data": {
      "text/plain": [
       "{'admin': True,\n",
       " 'created_on': 'Fri, 22 Jul 2022 16:23:52 GMT',\n",
       " 'email': 'sjsarahboo@gmail.com',\n",
       " 'first_name': 'Sarah',\n",
       " 'last_name': 'Stodder',\n",
       " 'modified_on': 'Fri, 22 Jul 2022 16:26:20 GMT',\n",
       " 'token': 'ChHBwZuIUGOziLm8sLqTtcsP3hafgr1ORR6PBDb2Y34',\n",
       " 'user_id': 273}"
      ]
     },
     "execution_count": 9,
     "metadata": {},
     "output_type": "execute_result"
    }
   ],
   "source": [
    "import base64\n",
    "\n",
    "def login_user(user_name, password):\n",
    "    auth_string = user_name + \":\" + password\n",
    "    \n",
    "    headers={\n",
    "        'Authorization' : \"Basic \"+base64.b64encode(auth_string.encode()).decode()\n",
    "    }\n",
    "    \n",
    "    user_data = requests.get(\n",
    "        url + endpoint_login,\n",
    "        headers=headers\n",
    "    )\n",
    "    return user_data.json()\n",
    "login_user(\"sjsarahboo@gmail.com\", \"sarah\")"
   ]
  },
  {
   "cell_type": "code",
   "execution_count": 4,
   "id": "6b1e5e06",
   "metadata": {},
   "outputs": [
    {
     "ename": "NameError",
     "evalue": "name 'jim' is not defined",
     "output_type": "error",
     "traceback": [
      "\u001b[1;31m---------------------------------------------------------------------------\u001b[0m",
      "\u001b[1;31mNameError\u001b[0m                                 Traceback (most recent call last)",
      "Input \u001b[1;32mIn [4]\u001b[0m, in \u001b[0;36m<cell line: 18>\u001b[1;34m()\u001b[0m\n\u001b[0;32m     12\u001b[0m     \u001b[38;5;28;01mreturn\u001b[39;00m response\u001b[38;5;241m.\u001b[39mtext\n\u001b[0;32m     14\u001b[0m jims_edit_payload\u001b[38;5;241m=\u001b[39m{\n\u001b[0;32m     15\u001b[0m     \u001b[38;5;124m\"\u001b[39m\u001b[38;5;124mfirst_name\u001b[39m\u001b[38;5;124m\"\u001b[39m:\u001b[38;5;124m\"\u001b[39m\u001b[38;5;124mBill\u001b[39m\u001b[38;5;124m\"\u001b[39m\n\u001b[0;32m     16\u001b[0m }\n\u001b[1;32m---> 18\u001b[0m edit_user(\u001b[43mjim\u001b[49m[\u001b[38;5;124m'\u001b[39m\u001b[38;5;124mtoken\u001b[39m\u001b[38;5;124m'\u001b[39m], jims_edit_payload)\n",
      "\u001b[1;31mNameError\u001b[0m: name 'jim' is not defined"
     ]
    }
   ],
   "source": [
    "def edit_user(token, payload):\n",
    "    payload_json_string = json.dumps(payload)\n",
    "    headers={\n",
    "        'Content-Type':'application/json',\n",
    "        'Authorization':'Bearer ' + token\n",
    "    }\n",
    "    response = requests.put(\n",
    "        url + endpoint_user,\n",
    "        data=payload_json_string,\n",
    "        headers=headers\n",
    "    )\n",
    "    return response.text\n",
    "\n",
    "jims_edit_payload={\n",
    "    \"first_name\":\"Bill\"\n",
    "}\n",
    "\n",
    "edit_user(jim['token'], jims_edit_payload)"
   ]
  },
  {
   "cell_type": "code",
   "execution_count": 5,
   "id": "7214308b",
   "metadata": {},
   "outputs": [
    {
     "ename": "NameError",
     "evalue": "name 'jim' is not defined",
     "output_type": "error",
     "traceback": [
      "\u001b[1;31m---------------------------------------------------------------------------\u001b[0m",
      "\u001b[1;31mNameError\u001b[0m                                 Traceback (most recent call last)",
      "Input \u001b[1;32mIn [5]\u001b[0m, in \u001b[0;36m<cell line: 11>\u001b[1;34m()\u001b[0m\n\u001b[0;32m      6\u001b[0m     response \u001b[38;5;241m=\u001b[39m requests\u001b[38;5;241m.\u001b[39mdelete(\n\u001b[0;32m      7\u001b[0m         url\u001b[38;5;241m+\u001b[39mendpoint_user,\n\u001b[0;32m      8\u001b[0m         headers\u001b[38;5;241m=\u001b[39mheaders\n\u001b[0;32m      9\u001b[0m     )\n\u001b[0;32m     10\u001b[0m     \u001b[38;5;28;01mreturn\u001b[39;00m response\u001b[38;5;241m.\u001b[39mtext\n\u001b[1;32m---> 11\u001b[0m \u001b[38;5;28mprint\u001b[39m(delete_user(\u001b[43mjim\u001b[49m[\u001b[38;5;124m'\u001b[39m\u001b[38;5;124mtoken\u001b[39m\u001b[38;5;124m'\u001b[39m]))\n",
      "\u001b[1;31mNameError\u001b[0m: name 'jim' is not defined"
     ]
    }
   ],
   "source": [
    "def delete_user(token):\n",
    "    headers = {\n",
    "        'Authorization':\"Bearer \" + token\n",
    "    }\n",
    "    \n",
    "    response = requests.delete(\n",
    "        url+endpoint_user,\n",
    "        headers=headers\n",
    "    )\n",
    "    return response.text\n",
    "print(delete_user(jim['token']))"
   ]
  },
  {
   "cell_type": "code",
   "execution_count": 8,
   "id": "c5941cbe",
   "metadata": {},
   "outputs": [
    {
     "name": "stdout",
     "output_type": "stream",
     "text": [
      "Registration:\n",
      "Email: sjsarahboo@gmail.com\n",
      "First Name: Sarah\n",
      "Last Name: Stodder\n",
      "Password: ········\n"
     ]
    },
    {
     "data": {
      "text/plain": [
       "'success'"
      ]
     },
     "execution_count": 8,
     "metadata": {},
     "output_type": "execute_result"
    }
   ],
   "source": [
    "from IPython.display import clear_output\n",
    "from getpass import getpass\n",
    "def login(email):\n",
    "    clear_output()\n",
    "    email = input(\"Whats your email?\")\n",
    "    password=getpass(\"Password: \")\n",
    "    user = login_user(email, password) \n",
    "    return user\n",
    "\n",
    "def register():\n",
    "    clear_output()\n",
    "    print(\"Registration:\")\n",
    "    email = input(\"Email: \")\n",
    "    first_name = input(\"First Name: \")\n",
    "    last_name = input(\"Last Name: \")\n",
    "    password = getpass(\"Password: \")\n",
    "    \n",
    "    user_dict={\n",
    "        \"email\":email,\n",
    "        \"first_name\":first_name,\n",
    "        \"last_name\":last_name,\n",
    "        \"password\":password\n",
    "    }\n",
    "    return register_user(user_dict)\n",
    "register()"
   ]
  },
  {
   "cell_type": "code",
   "execution_count": 10,
   "id": "ffbb73f7",
   "metadata": {},
   "outputs": [],
   "source": [
    "def do_log_in():\n",
    "     while True:\n",
    "        clear_output()\n",
    "        print(\"Welcome to A Likely Story!\")\n",
    "        email = input(\"Type your email to login or Type `register` to Register \")\n",
    "        if email == 'register':\n",
    "            success_register= user.register()\n",
    "            if success_register:\n",
    "                print(\"You have successfully registered\")\n",
    "                continue\n",
    "        elif email.lower() == \"quit\":\n",
    "            print(\"Goodbye\")\n",
    "            break\n",
    "        else:\n",
    "            try:\n",
    "                user.login(email)\n",
    "                break\n",
    "            except:\n",
    "                print(\"Invalid Username/Password combo\")\n",
    "                time.sleep(2)\n",
    "                continue"
   ]
  },
  {
   "cell_type": "code",
   "execution_count": null,
   "id": "749d09f9",
   "metadata": {},
   "outputs": [],
   "source": []
  }
 ],
 "metadata": {
  "kernelspec": {
   "display_name": "Python 3 (ipykernel)",
   "language": "python",
   "name": "python3"
  },
  "language_info": {
   "codemirror_mode": {
    "name": "ipython",
    "version": 3
   },
   "file_extension": ".py",
   "mimetype": "text/x-python",
   "name": "python",
   "nbconvert_exporter": "python",
   "pygments_lexer": "ipython3",
   "version": "3.9.12"
  }
 },
 "nbformat": 4,
 "nbformat_minor": 5
}
